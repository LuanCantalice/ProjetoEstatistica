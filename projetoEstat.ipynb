{
 "cells": [
  {
   "cell_type": "markdown",
   "id": "4beedb0c-b993-4cee-b55a-7defb34539b9",
   "metadata": {},
   "source": [
    "Questão 1: Para carregar os arquivos CSV's sem a necessidade deles estarem baixados no computador, upei eles no meu repositio do github, e os carreguei a partir de la.\n",
    "\n",
    "Tive um erro ao tentar importar  pelo link \"https://github.com/LuanCantalice/ProjetoEstatistica/blob/main/datatran2019.csv\" mas ao importar pelo raw, o erro foi solucionado."
   ]
  },
  {
   "cell_type": "code",
   "execution_count": 1,
   "id": "39b0736f-6866-4072-bf9e-70622a2f2287",
   "metadata": {
    "tags": []
   },
   "outputs": [],
   "source": [
    "import pandas as pd\n",
    "import numpy as np\n",
    "\n",
    "detran2018 = pd.read_csv('https://raw.githubusercontent.com/LuanCantalice/ProjetoEstatistica/main/datatran2018.csv', sep=';', encoding = 'ISO-8859-1')\n",
    "detran2019 = pd.read_csv('https://raw.githubusercontent.com/LuanCantalice/ProjetoEstatistica/main/datatran2019.csv', sep=';', encoding = 'ISO-8859-1')\n",
    "detran2020 = pd.read_csv('https://raw.githubusercontent.com/LuanCantalice/ProjetoEstatistica/main/datatran2020.csv', sep=';', encoding = 'ISO-8859-1')"
   ]
  },
  {
   "cell_type": "markdown",
   "id": "27dad40f-98eb-4e34-880f-5e6c4136b2b3",
   "metadata": {},
   "source": [
    "Questão 2: A) Quantos acidentes ocorreram em cada ano?\n",
    "\n",
    "Basta usar o 'len' para saber a quantidade de linhas"
   ]
  },
  {
   "cell_type": "code",
   "execution_count": 2,
   "id": "2c72d5ac-7b15-4bd5-98da-3fa1e9c02aec",
   "metadata": {},
   "outputs": [
    {
     "name": "stdout",
     "output_type": "stream",
     "text": [
      "Total de acidentes em 2018 : 69295\n"
     ]
    }
   ],
   "source": [
    "print(\"Total de acidentes em 2018 :\", len(detran2018))"
   ]
  },
  {
   "cell_type": "code",
   "execution_count": 3,
   "id": "ec18caf4-d376-46c5-bb98-63274f771015",
   "metadata": {},
   "outputs": [
    {
     "name": "stdout",
     "output_type": "stream",
     "text": [
      "Total de acidentes em 2019 : 67446\n"
     ]
    }
   ],
   "source": [
    "print(\"Total de acidentes em 2019 :\", len(detran2019))"
   ]
  },
  {
   "cell_type": "code",
   "execution_count": 4,
   "id": "6ef4a550-8670-413f-9a84-0325a98d2ec1",
   "metadata": {},
   "outputs": [
    {
     "name": "stdout",
     "output_type": "stream",
     "text": [
      "Total de acidentes em 2020 : 63548\n"
     ]
    }
   ],
   "source": [
    "print(\"Total de acidentes em 2020 :\", len(detran2020))"
   ]
  },
  {
   "cell_type": "markdown",
   "id": "217df8a5-b8be-4712-a436-2e709c321e1f",
   "metadata": {},
   "source": [
    "B) Quantas variáveis cada conjunto de dados registra?\n",
    "\n",
    "As váriaveis são as colunas dos DF's, para isso, basta usar o '.columns'. juntamente com o 'len'"
   ]
  },
  {
   "cell_type": "code",
   "execution_count": 5,
   "id": "1adcd5a7-9132-48b5-844b-b07a80cadd23",
   "metadata": {},
   "outputs": [
    {
     "data": {
      "text/plain": [
       "30"
      ]
     },
     "execution_count": 5,
     "metadata": {},
     "output_type": "execute_result"
    }
   ],
   "source": [
    "len(detran2018.columns)"
   ]
  },
  {
   "cell_type": "code",
   "execution_count": 6,
   "id": "1ac531a7-2dee-4107-bac1-e5a3a976a88c",
   "metadata": {},
   "outputs": [
    {
     "data": {
      "text/plain": [
       "30"
      ]
     },
     "execution_count": 6,
     "metadata": {},
     "output_type": "execute_result"
    }
   ],
   "source": [
    "len(detran2019.columns)"
   ]
  },
  {
   "cell_type": "code",
   "execution_count": 7,
   "id": "aa36fe57-4c8c-4571-bc45-0ceb3d7ed16b",
   "metadata": {},
   "outputs": [
    {
     "data": {
      "text/plain": [
       "30"
      ]
     },
     "execution_count": 7,
     "metadata": {},
     "output_type": "execute_result"
    }
   ],
   "source": [
    "len(detran2020.columns)"
   ]
  },
  {
   "cell_type": "markdown",
   "id": "b5611d23-2a3b-485e-b268-69bdaa7871c3",
   "metadata": {},
   "source": [
    "C) quais as cinco cidades brasileiras onde mais ocorreram acidentes em rodovias federais?\n",
    "\n",
    "Basta usar o 'value_counts()' para obter o numero dos acidentes e passar o '.head() para obter as 5 cidades."
   ]
  },
  {
   "cell_type": "code",
   "execution_count": 8,
   "id": "e467a36d-fbb9-4f29-bac9-11a716cbc7af",
   "metadata": {},
   "outputs": [
    {
     "data": {
      "text/plain": [
       "CURITIBA     1019\n",
       "SAO JOSE      874\n",
       "BRASILIA      867\n",
       "GUARULHOS     755\n",
       "PALHOCA       688\n",
       "Name: municipio, dtype: int64"
      ]
     },
     "execution_count": 8,
     "metadata": {},
     "output_type": "execute_result"
    }
   ],
   "source": [
    "acidentes2018 = detran2018['municipio'].value_counts().head()\n",
    "acidentes2018"
   ]
  },
  {
   "cell_type": "code",
   "execution_count": 9,
   "id": "d262d91d-3b3c-4b19-8894-c25965bfe8e4",
   "metadata": {},
   "outputs": [
    {
     "data": {
      "text/plain": [
       "CURITIBA     1094\n",
       "BRASILIA     1090\n",
       "SAO JOSE      819\n",
       "GUARULHOS     717\n",
       "SERRA         633\n",
       "Name: municipio, dtype: int64"
      ]
     },
     "execution_count": 9,
     "metadata": {},
     "output_type": "execute_result"
    }
   ],
   "source": [
    "acidentes2019 = detran2019['municipio'].value_counts().head()\n",
    "acidentes2019"
   ]
  },
  {
   "cell_type": "code",
   "execution_count": 10,
   "id": "0b478f0d-ba64-48f7-a625-8f3b7a6885df",
   "metadata": {},
   "outputs": [
    {
     "data": {
      "text/plain": [
       "BRASILIA     1040\n",
       "CURITIBA      950\n",
       "GUARULHOS     639\n",
       "SAO JOSE      629\n",
       "PALHOCA       593\n",
       "Name: municipio, dtype: int64"
      ]
     },
     "execution_count": 10,
     "metadata": {},
     "output_type": "execute_result"
    }
   ],
   "source": [
    "acidentes2020 = detran2020['municipio'].value_counts().head()\n",
    "acidentes2020"
   ]
  },
  {
   "cell_type": "markdown",
   "id": "1ac231db-1ea4-4f06-a060-4ae3e889bbf7",
   "metadata": {},
   "source": [
    "D) Quantos acidentes com feridos graves aconteceram na Paraíba em 2019?\n",
    "\n",
    "Basta selecionar o municipio do paraiba, quando a variavel 'feridos_graves' for maior que 0 e novamente usar o 'len' para saber a quantidade de feridos. (linhas)"
   ]
  },
  {
   "cell_type": "code",
   "execution_count": 11,
   "id": "12f84107-f4b9-417f-904e-9c2f6a34cff2",
   "metadata": {},
   "outputs": [
    {
     "data": {
      "text/plain": [
       "414"
      ]
     },
     "execution_count": 11,
     "metadata": {},
     "output_type": "execute_result"
    }
   ],
   "source": [
    "#Seleciono somente os municipios da Paraíba.\n",
    "\n",
    "detran2019pb = detran2019['uf']=='PB'\n",
    "new_df = detran2019[detran2019pb]\n",
    "\n",
    "#Seleciono somente os feridos graves.\n",
    "\n",
    "dfFeridosGraves = new_df['feridos_graves'] > 0\n",
    "newdf2 = new_df[dfFeridosGraves]\n",
    "len(newdf2) #quantidade de feridos."
   ]
  },
  {
   "cell_type": "markdown",
   "id": "cc4f2dc4-ef4c-424f-86fb-2dc764dfcd60",
   "metadata": {},
   "source": [
    "3) A) ranking de acidentes por estado para todos os anos (um só arquivo combinando a informação dos três anos);\n",
    "\n",
    "Pego a quantidade de acidentes por municipio de cada ano com o value_counts() e depois monto um df com esses dados, depois utilizo o '.sort_values(by = ['2018','2019','2020']).loc[::-1,:]' para organizar os dados em ordem decrescente, formando assim o ranking.\n"
   ]
  },
  {
   "cell_type": "code",
   "execution_count": 36,
   "id": "3b34c7b9-cd17-4309-903b-39e67279016b",
   "metadata": {},
   "outputs": [
    {
     "data": {
      "text/html": [
       "<div>\n",
       "<style scoped>\n",
       "    .dataframe tbody tr th:only-of-type {\n",
       "        vertical-align: middle;\n",
       "    }\n",
       "\n",
       "    .dataframe tbody tr th {\n",
       "        vertical-align: top;\n",
       "    }\n",
       "\n",
       "    .dataframe thead th {\n",
       "        text-align: right;\n",
       "    }\n",
       "</style>\n",
       "<table border=\"1\" class=\"dataframe\">\n",
       "  <thead>\n",
       "    <tr style=\"text-align: right;\">\n",
       "      <th></th>\n",
       "      <th>2018</th>\n",
       "      <th>2019</th>\n",
       "      <th>2020</th>\n",
       "    </tr>\n",
       "  </thead>\n",
       "  <tbody>\n",
       "    <tr>\n",
       "      <th>MG</th>\n",
       "      <td>9066</td>\n",
       "      <td>8720</td>\n",
       "      <td>8374</td>\n",
       "    </tr>\n",
       "    <tr>\n",
       "      <th>SC</th>\n",
       "      <td>8497</td>\n",
       "      <td>8428</td>\n",
       "      <td>7220</td>\n",
       "    </tr>\n",
       "    <tr>\n",
       "      <th>PR</th>\n",
       "      <td>7952</td>\n",
       "      <td>7708</td>\n",
       "      <td>7190</td>\n",
       "    </tr>\n",
       "    <tr>\n",
       "      <th>RJ</th>\n",
       "      <td>4575</td>\n",
       "      <td>4606</td>\n",
       "      <td>4236</td>\n",
       "    </tr>\n",
       "    <tr>\n",
       "      <th>SP</th>\n",
       "      <td>4516</td>\n",
       "      <td>4377</td>\n",
       "      <td>4043</td>\n",
       "    </tr>\n",
       "    <tr>\n",
       "      <th>RS</th>\n",
       "      <td>4445</td>\n",
       "      <td>4595</td>\n",
       "      <td>4176</td>\n",
       "    </tr>\n",
       "    <tr>\n",
       "      <th>BA</th>\n",
       "      <td>3555</td>\n",
       "      <td>3471</td>\n",
       "      <td>3456</td>\n",
       "    </tr>\n",
       "    <tr>\n",
       "      <th>GO</th>\n",
       "      <td>3464</td>\n",
       "      <td>3354</td>\n",
       "      <td>3228</td>\n",
       "    </tr>\n",
       "    <tr>\n",
       "      <th>PE</th>\n",
       "      <td>2715</td>\n",
       "      <td>2736</td>\n",
       "      <td>2560</td>\n",
       "    </tr>\n",
       "    <tr>\n",
       "      <th>ES</th>\n",
       "      <td>2642</td>\n",
       "      <td>2842</td>\n",
       "      <td>2534</td>\n",
       "    </tr>\n",
       "    <tr>\n",
       "      <th>MT</th>\n",
       "      <td>2631</td>\n",
       "      <td>2137</td>\n",
       "      <td>2195</td>\n",
       "    </tr>\n",
       "    <tr>\n",
       "      <th>CE</th>\n",
       "      <td>1697</td>\n",
       "      <td>1694</td>\n",
       "      <td>1571</td>\n",
       "    </tr>\n",
       "    <tr>\n",
       "      <th>RO</th>\n",
       "      <td>1629</td>\n",
       "      <td>1533</td>\n",
       "      <td>1486</td>\n",
       "    </tr>\n",
       "    <tr>\n",
       "      <th>PB</th>\n",
       "      <td>1588</td>\n",
       "      <td>1564</td>\n",
       "      <td>1401</td>\n",
       "    </tr>\n",
       "    <tr>\n",
       "      <th>MS</th>\n",
       "      <td>1530</td>\n",
       "      <td>1435</td>\n",
       "      <td>1540</td>\n",
       "    </tr>\n",
       "    <tr>\n",
       "      <th>RN</th>\n",
       "      <td>1416</td>\n",
       "      <td>1437</td>\n",
       "      <td>1337</td>\n",
       "    </tr>\n",
       "    <tr>\n",
       "      <th>PI</th>\n",
       "      <td>1371</td>\n",
       "      <td>1346</td>\n",
       "      <td>1203</td>\n",
       "    </tr>\n",
       "    <tr>\n",
       "      <th>MA</th>\n",
       "      <td>1272</td>\n",
       "      <td>1075</td>\n",
       "      <td>1154</td>\n",
       "    </tr>\n",
       "    <tr>\n",
       "      <th>PA</th>\n",
       "      <td>1260</td>\n",
       "      <td>817</td>\n",
       "      <td>963</td>\n",
       "    </tr>\n",
       "    <tr>\n",
       "      <th>DF</th>\n",
       "      <td>867</td>\n",
       "      <td>1090</td>\n",
       "      <td>1040</td>\n",
       "    </tr>\n",
       "    <tr>\n",
       "      <th>AL</th>\n",
       "      <td>691</td>\n",
       "      <td>629</td>\n",
       "      <td>628</td>\n",
       "    </tr>\n",
       "    <tr>\n",
       "      <th>TO</th>\n",
       "      <td>589</td>\n",
       "      <td>520</td>\n",
       "      <td>595</td>\n",
       "    </tr>\n",
       "    <tr>\n",
       "      <th>SE</th>\n",
       "      <td>559</td>\n",
       "      <td>612</td>\n",
       "      <td>575</td>\n",
       "    </tr>\n",
       "    <tr>\n",
       "      <th>RR</th>\n",
       "      <td>236</td>\n",
       "      <td>237</td>\n",
       "      <td>250</td>\n",
       "    </tr>\n",
       "    <tr>\n",
       "      <th>AC</th>\n",
       "      <td>235</td>\n",
       "      <td>254</td>\n",
       "      <td>300</td>\n",
       "    </tr>\n",
       "    <tr>\n",
       "      <th>AP</th>\n",
       "      <td>173</td>\n",
       "      <td>128</td>\n",
       "      <td>155</td>\n",
       "    </tr>\n",
       "    <tr>\n",
       "      <th>AM</th>\n",
       "      <td>124</td>\n",
       "      <td>101</td>\n",
       "      <td>138</td>\n",
       "    </tr>\n",
       "  </tbody>\n",
       "</table>\n",
       "</div>"
      ],
      "text/plain": [
       "    2018  2019  2020\n",
       "MG  9066  8720  8374\n",
       "SC  8497  8428  7220\n",
       "PR  7952  7708  7190\n",
       "RJ  4575  4606  4236\n",
       "SP  4516  4377  4043\n",
       "RS  4445  4595  4176\n",
       "BA  3555  3471  3456\n",
       "GO  3464  3354  3228\n",
       "PE  2715  2736  2560\n",
       "ES  2642  2842  2534\n",
       "MT  2631  2137  2195\n",
       "CE  1697  1694  1571\n",
       "RO  1629  1533  1486\n",
       "PB  1588  1564  1401\n",
       "MS  1530  1435  1540\n",
       "RN  1416  1437  1337\n",
       "PI  1371  1346  1203\n",
       "MA  1272  1075  1154\n",
       "PA  1260   817   963\n",
       "DF   867  1090  1040\n",
       "AL   691   629   628\n",
       "TO   589   520   595\n",
       "SE   559   612   575\n",
       "RR   236   237   250\n",
       "AC   235   254   300\n",
       "AP   173   128   155\n",
       "AM   124   101   138"
      ]
     },
     "execution_count": 36,
     "metadata": {},
     "output_type": "execute_result"
    }
   ],
   "source": [
    "acd18 = detran2018['uf'].value_counts()\n",
    "acd19 = detran2019['uf'].value_counts()\n",
    "acd20 = detran2020['uf'].value_counts()\n",
    "dados = {'2018':acd18, '2019':acd19, '2020':acd20}\n",
    "acidentes = pd.DataFrame(dados).sort_values(by = ['2018','2019','2020']).loc[::-1,:]\n",
    "acidentes.to_csv('ranking.csv',sep=';') #salvando em CSV\n",
    "acidentes"
   ]
  },
  {
   "cell_type": "markdown",
   "id": "713de606-2a9e-4c2b-a4ac-03b9e2586c9e",
   "metadata": {},
   "source": [
    "B) Acidentes por dia da semana para todos os anos (um só arquivo combinando a informação dos três anos).\n",
    "\n",
    "Pego a quantidade de acidentes por dia da semana com o value_counts() e depois monto um df com esses dados, depois utilizo o '.sort_values(by = ['2018','2019','2020']).loc[::-1,:]' para organizar os dados em ordem decrescente, formando assim o ranking."
   ]
  },
  {
   "cell_type": "code",
   "execution_count": 37,
   "id": "8b2f913d-2cbf-4437-9d74-db0dabaf62c3",
   "metadata": {},
   "outputs": [
    {
     "data": {
      "text/html": [
       "<div>\n",
       "<style scoped>\n",
       "    .dataframe tbody tr th:only-of-type {\n",
       "        vertical-align: middle;\n",
       "    }\n",
       "\n",
       "    .dataframe tbody tr th {\n",
       "        vertical-align: top;\n",
       "    }\n",
       "\n",
       "    .dataframe thead th {\n",
       "        text-align: right;\n",
       "    }\n",
       "</style>\n",
       "<table border=\"1\" class=\"dataframe\">\n",
       "  <thead>\n",
       "    <tr style=\"text-align: right;\">\n",
       "      <th></th>\n",
       "      <th>2018</th>\n",
       "      <th>2019</th>\n",
       "      <th>2020</th>\n",
       "    </tr>\n",
       "  </thead>\n",
       "  <tbody>\n",
       "    <tr>\n",
       "      <th>domingo</th>\n",
       "      <td>11283</td>\n",
       "      <td>11298</td>\n",
       "      <td>10420</td>\n",
       "    </tr>\n",
       "    <tr>\n",
       "      <th>sábado</th>\n",
       "      <td>11239</td>\n",
       "      <td>11099</td>\n",
       "      <td>10667</td>\n",
       "    </tr>\n",
       "    <tr>\n",
       "      <th>sexta-feira</th>\n",
       "      <td>10632</td>\n",
       "      <td>10381</td>\n",
       "      <td>9764</td>\n",
       "    </tr>\n",
       "    <tr>\n",
       "      <th>segunda-feira</th>\n",
       "      <td>9422</td>\n",
       "      <td>9134</td>\n",
       "      <td>8519</td>\n",
       "    </tr>\n",
       "    <tr>\n",
       "      <th>quinta-feira</th>\n",
       "      <td>9230</td>\n",
       "      <td>8755</td>\n",
       "      <td>8244</td>\n",
       "    </tr>\n",
       "    <tr>\n",
       "      <th>quarta-feira</th>\n",
       "      <td>8824</td>\n",
       "      <td>8374</td>\n",
       "      <td>8155</td>\n",
       "    </tr>\n",
       "    <tr>\n",
       "      <th>terça-feira</th>\n",
       "      <td>8665</td>\n",
       "      <td>8405</td>\n",
       "      <td>7779</td>\n",
       "    </tr>\n",
       "  </tbody>\n",
       "</table>\n",
       "</div>"
      ],
      "text/plain": [
       "                2018   2019   2020\n",
       "domingo        11283  11298  10420\n",
       "sábado         11239  11099  10667\n",
       "sexta-feira    10632  10381   9764\n",
       "segunda-feira   9422   9134   8519\n",
       "quinta-feira    9230   8755   8244\n",
       "quarta-feira    8824   8374   8155\n",
       "terça-feira     8665   8405   7779"
      ]
     },
     "execution_count": 37,
     "metadata": {},
     "output_type": "execute_result"
    }
   ],
   "source": [
    "dia18 = detran2018['dia_semana'].value_counts() #dias de 2018\n",
    "dia19 = detran2019['dia_semana'].value_counts() #dias de 2019\n",
    "dia20 = detran2020['dia_semana'].value_counts() #dias de 2020\n",
    "dados = {'2018':dia18, '2019':dia19, '2020':dia20}\n",
    "acidentes = pd.DataFrame(dados).sort_values(by = ['2018','2019','2020']).loc[::-1,:]\n",
    "acidentes.to_csv('rankingdias.csv',sep=';') #salvando em CSV\n",
    "acidentes"
   ]
  },
  {
   "cell_type": "markdown",
   "id": "568344e0-503f-4147-b0e7-5f47e5b5e238",
   "metadata": {},
   "source": [
    "Questão 4) (A) Qual a causa mais frequente e a mais rara de acidentes registrados nos três anos?\n",
    "\n",
    "Basta usar o idxmax() para obter a mais frequente e o idxmin() para a mais rara."
   ]
  },
  {
   "cell_type": "code",
   "execution_count": 14,
   "id": "95eb5b00-8ae6-494d-b88f-2b7d8309587b",
   "metadata": {},
   "outputs": [
    {
     "name": "stdout",
     "output_type": "stream",
     "text": [
      "Causa mais frequente em 2018: Falta de Atenção à Condução , já a causa mais rara: Ingestão de Substâncias Psicoativas\n"
     ]
    }
   ],
   "source": [
    "causas2018 = detran2018['causa_acidente'].value_counts()\n",
    "print(\"Causa mais frequente em 2018:\", causas2018.idxmax(), \", já a causa mais rara:\", causas2018.idxmin())"
   ]
  },
  {
   "cell_type": "code",
   "execution_count": 15,
   "id": "9832cf57-dcf4-44dc-b6fd-7062f0f777e3",
   "metadata": {},
   "outputs": [
    {
     "name": "stdout",
     "output_type": "stream",
     "text": [
      "Causa mais frequente em 2019: Falta de Atenção à Condução , já a causa mais rara: Ingestão de Substâncias Psicoativas\n"
     ]
    }
   ],
   "source": [
    "causas2019 = detran2019['causa_acidente'].value_counts()\n",
    "print(\"Causa mais frequente em 2019:\", causas2019.idxmax(), \", já a causa mais rara:\", causas2019.idxmin())"
   ]
  },
  {
   "cell_type": "code",
   "execution_count": 16,
   "id": "57f9f2cf-3606-463a-8a00-e456944f22ba",
   "metadata": {},
   "outputs": [
    {
     "name": "stdout",
     "output_type": "stream",
     "text": [
      "Causa mais frequente em 2018: Falta de Atenção à Condução , já a causa mais rara: Acumulo de areia ou detritos sobre o pavimento\n"
     ]
    }
   ],
   "source": [
    "causas2020 = detran2020['causa_acidente'].value_counts()\n",
    "print(\"Causa mais frequente em 2018:\", causas2020.idxmax(), \", já a causa mais rara:\", causas2020.idxmin())"
   ]
  },
  {
   "cell_type": "markdown",
   "id": "861b42d2-2dda-48b6-932d-aa572a5bcb3c",
   "metadata": {},
   "source": [
    "B) Qual a proporção de pessoas ilesas e de feridos graves por mês em cada um dos anos considerados? (proporção = numero de ilesos ou feridos graves/ número total de pessoas envolvidas no acidente);\n",
    "\n",
    "Após procurar em foruns, vi que era possível transformar a coluna 'data_inversa' em data através do 'pd.to_datetime', tornando possivel fazer as manipulações necessárias pelo mês (através do dt.month)\n",
    "\n",
    "Após isso, utilizei o 'groupby' para criar os grupos e poder realizar as operações."
   ]
  },
  {
   "cell_type": "code",
   "execution_count": 17,
   "id": "1cdb90d5-5ac4-4108-8d36-cfee100783b5",
   "metadata": {},
   "outputs": [],
   "source": [
    "detran2018['data_inversa'] = pd.to_datetime(detran2018['data_inversa'])\n",
    "ileso18 = detran2018.groupby(detran2018['data_inversa'].dt.month)['ilesos'].sum()\n",
    "grave18 = detran2018.groupby(detran2018['data_inversa'].dt.month)['feridos_graves'].sum()\n",
    "totalpessoas18 = detran2018.groupby(detran2018['data_inversa'].dt.month)['pessoas'].sum()"
   ]
  },
  {
   "cell_type": "code",
   "execution_count": 18,
   "id": "88c18004-8761-4953-9375-d3e3686014fc",
   "metadata": {},
   "outputs": [
    {
     "data": {
      "text/plain": [
       "data_inversa\n",
       "1     0.513291\n",
       "2     0.498256\n",
       "3     0.481535\n",
       "4     0.430159\n",
       "5     0.422230\n",
       "6     0.425097\n",
       "7     0.437509\n",
       "8     0.427051\n",
       "9     0.420665\n",
       "10    0.430178\n",
       "11    0.433356\n",
       "12    0.432916\n",
       "dtype: float64"
      ]
     },
     "execution_count": 18,
     "metadata": {},
     "output_type": "execute_result"
    }
   ],
   "source": [
    "ileso18/totalpessoas18 #proporção de ilesos de 2018 do mês 1 ao mês 12"
   ]
  },
  {
   "cell_type": "code",
   "execution_count": 19,
   "id": "4ad41400-889e-44dc-8ef4-30be255b5d46",
   "metadata": {},
   "outputs": [
    {
     "data": {
      "text/plain": [
       "data_inversa\n",
       "1     0.090609\n",
       "2     0.092191\n",
       "3     0.101853\n",
       "4     0.112774\n",
       "5     0.114457\n",
       "6     0.116395\n",
       "7     0.110295\n",
       "8     0.106371\n",
       "9     0.115453\n",
       "10    0.112645\n",
       "11    0.115405\n",
       "12    0.108103\n",
       "dtype: float64"
      ]
     },
     "execution_count": 19,
     "metadata": {},
     "output_type": "execute_result"
    }
   ],
   "source": [
    "grave18/totalpessoas18 #proporção de feridos graves de 2018 do mês 1 ao mês 12"
   ]
  },
  {
   "cell_type": "code",
   "execution_count": 20,
   "id": "899e8c25-c638-4e6d-91bb-f3e7dd0ae1ed",
   "metadata": {},
   "outputs": [],
   "source": [
    "#Ano de 2019:\n",
    "\n",
    "detran2019['data_inversa'] = pd.to_datetime(detran2019['data_inversa'])\n",
    "ileso19 = detran2019.groupby(detran2019['data_inversa'].dt.month)['ilesos'].sum()\n",
    "grave19 = detran2019.groupby(detran2019['data_inversa'].dt.month)['feridos_graves'].sum()\n",
    "totalpessoas19 = detran2019.groupby(detran2019['data_inversa'].dt.month)['pessoas'].sum()"
   ]
  },
  {
   "cell_type": "code",
   "execution_count": 21,
   "id": "d5fadd86-b31f-4204-88fe-e5002fd01cfa",
   "metadata": {},
   "outputs": [
    {
     "data": {
      "text/plain": [
       "data_inversa\n",
       "1     0.424224\n",
       "2     0.424104\n",
       "3     0.433193\n",
       "4     0.415685\n",
       "5     0.415162\n",
       "6     0.423757\n",
       "7     0.436815\n",
       "8     0.413084\n",
       "9     0.421064\n",
       "10    0.418922\n",
       "11    0.425812\n",
       "12    0.422265\n",
       "dtype: float64"
      ]
     },
     "execution_count": 21,
     "metadata": {},
     "output_type": "execute_result"
    }
   ],
   "source": [
    "ileso19/totalpessoas19 #proporção de ilesos de 2019 do mês 1 ao mês 12"
   ]
  },
  {
   "cell_type": "code",
   "execution_count": 22,
   "id": "21095b74-4033-4bf8-baf4-570e874ff9f9",
   "metadata": {},
   "outputs": [
    {
     "data": {
      "text/plain": [
       "data_inversa\n",
       "1     0.113264\n",
       "2     0.106789\n",
       "3     0.114599\n",
       "4     0.105970\n",
       "5     0.120750\n",
       "6     0.121617\n",
       "7     0.116670\n",
       "8     0.116683\n",
       "9     0.110656\n",
       "10    0.119805\n",
       "11    0.111047\n",
       "12    0.114405\n",
       "dtype: float64"
      ]
     },
     "execution_count": 22,
     "metadata": {},
     "output_type": "execute_result"
    }
   ],
   "source": [
    "grave19/totalpessoas19 #proporção de feridos graves de 2019 do mês 1 ao mês 12"
   ]
  },
  {
   "cell_type": "code",
   "execution_count": 23,
   "id": "db137060-e52c-451e-81c3-b4a5ea7e944c",
   "metadata": {},
   "outputs": [],
   "source": [
    "#Ano de 2020:\n",
    "\n",
    "detran2020['data_inversa'] = pd.to_datetime(detran2020['data_inversa'])\n",
    "ileso20 = detran2020.groupby(detran2020['data_inversa'].dt.month)['ilesos'].sum()\n",
    "grave20 = detran2020.groupby(detran2020['data_inversa'].dt.month)['feridos_graves'].sum()\n",
    "totalpessoas20 = detran2020.groupby(detran2020['data_inversa'].dt.month)['pessoas'].sum()"
   ]
  },
  {
   "cell_type": "code",
   "execution_count": 24,
   "id": "cbff925e-8427-41d1-865d-fe814097d516",
   "metadata": {},
   "outputs": [
    {
     "data": {
      "text/plain": [
       "data_inversa\n",
       "1     0.415565\n",
       "2     0.420011\n",
       "3     0.401021\n",
       "4     0.376267\n",
       "5     0.401330\n",
       "6     0.423283\n",
       "7     0.424321\n",
       "8     0.423414\n",
       "9     0.416016\n",
       "10    0.411006\n",
       "11    0.407042\n",
       "12    0.412292\n",
       "dtype: float64"
      ]
     },
     "execution_count": 24,
     "metadata": {},
     "output_type": "execute_result"
    }
   ],
   "source": [
    "ileso20/totalpessoas20 #proporção de ilesos de 2020 do mês 1 ao mês 12"
   ]
  },
  {
   "cell_type": "code",
   "execution_count": 25,
   "id": "33660471-7bd2-4ff1-abc5-cc56799dd7a6",
   "metadata": {},
   "outputs": [
    {
     "data": {
      "text/plain": [
       "data_inversa\n",
       "1     0.107463\n",
       "2     0.111356\n",
       "3     0.112575\n",
       "4     0.117949\n",
       "5     0.115942\n",
       "6     0.115936\n",
       "7     0.108617\n",
       "8     0.119168\n",
       "9     0.117388\n",
       "10    0.119716\n",
       "11    0.120385\n",
       "12    0.121993\n",
       "dtype: float64"
      ]
     },
     "execution_count": 25,
     "metadata": {},
     "output_type": "execute_result"
    }
   ],
   "source": [
    "grave20/totalpessoas20 #proporção de feridos graves de 2020 do mês 1 ao mês 12"
   ]
  },
  {
   "cell_type": "markdown",
   "id": "5a3fc7f0-621e-495e-a9aa-688e5e0445f2",
   "metadata": {},
   "source": [
    "C) Mostre, reorganizando o conjunto de dados, se a pandemia conseguiu diminuir ou não a incidência de acidentes nas rodovias federais.\n",
    "\n",
    "Foram escolhidos os anos 2019 e 2020 para fazer essa questão, visto que a pandemia começou em março de 2020, e 2019 foi escolhido para fazer a comparação.\n",
    "\n",
    "É possível notar que do mês 3 ao mês 7 houve uma queda no número de acidentes, após isso, o valor voltou a crescer. (Foi utilizado o 'dt.month.value_counts()' para obter o valor."
   ]
  },
  {
   "cell_type": "code",
   "execution_count": 35,
   "id": "3b0d29ac-dca7-4b0f-a568-686be255326f",
   "metadata": {},
   "outputs": [
    {
     "data": {
      "text/html": [
       "<div>\n",
       "<style scoped>\n",
       "    .dataframe tbody tr th:only-of-type {\n",
       "        vertical-align: middle;\n",
       "    }\n",
       "\n",
       "    .dataframe tbody tr th {\n",
       "        vertical-align: top;\n",
       "    }\n",
       "\n",
       "    .dataframe thead th {\n",
       "        text-align: right;\n",
       "    }\n",
       "</style>\n",
       "<table border=\"1\" class=\"dataframe\">\n",
       "  <thead>\n",
       "    <tr style=\"text-align: right;\">\n",
       "      <th></th>\n",
       "      <th>2019</th>\n",
       "      <th>2020</th>\n",
       "    </tr>\n",
       "  </thead>\n",
       "  <tbody>\n",
       "    <tr>\n",
       "      <th>1</th>\n",
       "      <td>5120</td>\n",
       "      <td>5497</td>\n",
       "    </tr>\n",
       "    <tr>\n",
       "      <th>2</th>\n",
       "      <td>4963</td>\n",
       "      <td>5467</td>\n",
       "    </tr>\n",
       "    <tr>\n",
       "      <th>3</th>\n",
       "      <td>5593</td>\n",
       "      <td>4790</td>\n",
       "    </tr>\n",
       "    <tr>\n",
       "      <th>4</th>\n",
       "      <td>5436</td>\n",
       "      <td>3883</td>\n",
       "    </tr>\n",
       "    <tr>\n",
       "      <th>5</th>\n",
       "      <td>5473</td>\n",
       "      <td>4657</td>\n",
       "    </tr>\n",
       "    <tr>\n",
       "      <th>6</th>\n",
       "      <td>5578</td>\n",
       "      <td>4734</td>\n",
       "    </tr>\n",
       "    <tr>\n",
       "      <th>7</th>\n",
       "      <td>5794</td>\n",
       "      <td>5127</td>\n",
       "    </tr>\n",
       "    <tr>\n",
       "      <th>8</th>\n",
       "      <td>5703</td>\n",
       "      <td>5643</td>\n",
       "    </tr>\n",
       "    <tr>\n",
       "      <th>9</th>\n",
       "      <td>5868</td>\n",
       "      <td>5689</td>\n",
       "    </tr>\n",
       "    <tr>\n",
       "      <th>10</th>\n",
       "      <td>5881</td>\n",
       "      <td>6120</td>\n",
       "    </tr>\n",
       "    <tr>\n",
       "      <th>11</th>\n",
       "      <td>5802</td>\n",
       "      <td>5745</td>\n",
       "    </tr>\n",
       "    <tr>\n",
       "      <th>12</th>\n",
       "      <td>6235</td>\n",
       "      <td>6196</td>\n",
       "    </tr>\n",
       "  </tbody>\n",
       "</table>\n",
       "</div>"
      ],
      "text/plain": [
       "    2019  2020\n",
       "1   5120  5497\n",
       "2   4963  5467\n",
       "3   5593  4790\n",
       "4   5436  3883\n",
       "5   5473  4657\n",
       "6   5578  4734\n",
       "7   5794  5127\n",
       "8   5703  5643\n",
       "9   5868  5689\n",
       "10  5881  6120\n",
       "11  5802  5745\n",
       "12  6235  6196"
      ]
     },
     "execution_count": 35,
     "metadata": {},
     "output_type": "execute_result"
    }
   ],
   "source": [
    "acd19 = detran2019['data_inversa'].dt.month.value_counts()\n",
    "acd20 = detran2020['data_inversa'].dt.month.value_counts()\n",
    "dados = {'2019':acd19, '2020':acd20}\n",
    "acidentes = pd.DataFrame(dados)\n",
    "acidentes"
   ]
  },
  {
   "cell_type": "code",
   "execution_count": null,
   "id": "ef872b72-4e59-4fd2-a6ef-0d877e503a39",
   "metadata": {},
   "outputs": [],
   "source": []
  }
 ],
 "metadata": {
  "kernelspec": {
   "display_name": "Python 3",
   "language": "python",
   "name": "python3"
  },
  "language_info": {
   "codemirror_mode": {
    "name": "ipython",
    "version": 3
   },
   "file_extension": ".py",
   "mimetype": "text/x-python",
   "name": "python",
   "nbconvert_exporter": "python",
   "pygments_lexer": "ipython3",
   "version": "3.8.8"
  }
 },
 "nbformat": 4,
 "nbformat_minor": 5
}
